{
 "cells": [
  {
   "cell_type": "markdown",
   "metadata": {},
   "source": [
    "#### The following approch was implement for the purpose of learning Hand Written Digit Recognition, for Digit Recognisition competition held on Kaggle\n",
    "\n",
    "#### By following the following approch the model has achieved an accuracy of 99.5%"
   ]
  },
  {
   "cell_type": "code",
   "execution_count": null,
   "metadata": {},
   "outputs": [],
   "source": []
  },
  {
   "cell_type": "markdown",
   "metadata": {},
   "source": [
    " Importing all the required libraries"
   ]
  },
  {
   "cell_type": "code",
   "execution_count": 1,
   "metadata": {
    "_cell_guid": "79c7e3d0-c299-4dcb-8224-4455121ee9b0",
    "_uuid": "d629ff2d2480ee46fbb7e2d37f6b5fab8052498a"
   },
   "outputs": [],
   "source": [
    "import tensorflow as tf\n",
    "import pandas as pd\n",
    "import numpy as np\n",
    "import matplotlib.pyplot as plt"
   ]
  },
  {
   "cell_type": "markdown",
   "metadata": {},
   "source": [
    "following code block, reads the input data, and performs data preprocessing:\n",
    "    - extracting the target labels from training data\n",
    "    - comverting the data from dataframe to numpy array\n",
    "    - reshaping the data from a row of 784 numbers to a matrix or order 2 tensor of (28 * 28) size\n",
    "    - converting the data to float type and nurmalizing it"
   ]
  },
  {
   "cell_type": "code",
   "execution_count": 2,
   "metadata": {},
   "outputs": [
    {
     "data": {
      "text/plain": [
       "(60000, 28, 28, 1)"
      ]
     },
     "execution_count": 2,
     "metadata": {},
     "output_type": "execute_result"
    }
   ],
   "source": [
    "training_data1 = pd.read_csv('/kaggle/input/digit-recognizer/train.csv')\n",
    "training_labels1 = training_data1.label\n",
    "training_data1 = training_data1.drop(['label'],axis=1)\n",
    "\n",
    "training_data1 = training_data1.to_numpy()\n",
    "training_data1 = training_data1.reshape(training_data1.shape[0],28,28,1)\n",
    "training_data1 = training_data1.astype('float32')\n",
    "training_data1 /= 255\n",
    "training_data1.shape"
   ]
  },
  {
   "cell_type": "markdown",
   "metadata": {},
   "source": [
    "then the labels extracted from the training data are one-hot encoded to a tensor with 10 values"
   ]
  },
  {
   "cell_type": "code",
   "execution_count": 3,
   "metadata": {},
   "outputs": [
    {
     "data": {
      "text/plain": [
       "(60000, 10)"
      ]
     },
     "execution_count": 3,
     "metadata": {},
     "output_type": "execute_result"
    }
   ],
   "source": [
    "training_labels1 = tf.keras.utils.to_categorical(training_labels1,num_classes=10)\n",
    "training_labels1.shape"
   ]
  },
  {
   "cell_type": "markdown",
   "metadata": {},
   "source": [
    "below is the model architecture, chich consists of\n",
    "    - 3 sets of convolution layers followed by max pooling layer\n",
    "    - flattening the data\n",
    "    - followed by 3 dense layers"
   ]
  },
  {
   "cell_type": "code",
   "execution_count": 1,
   "metadata": {},
   "outputs": [
    {
     "ename": "NameError",
     "evalue": "name 'tf' is not defined",
     "output_type": "error",
     "traceback": [
      "\u001b[0;31m---------------------------------------------------------------------------\u001b[0m",
      "\u001b[0;31mNameError\u001b[0m                                 Traceback (most recent call last)",
      "\u001b[0;32m<ipython-input-1-de51f6b6e9fd>\u001b[0m in \u001b[0;36m<module>\u001b[0;34m\u001b[0m\n\u001b[0;32m----> 1\u001b[0;31m model = tf.keras.Sequential([\n\u001b[0m\u001b[1;32m      2\u001b[0m     tf.keras.layers.Conv2D(32,(3,3),input_shape=(28,28,1),\n\u001b[1;32m      3\u001b[0m                            \u001b[0mactivation\u001b[0m\u001b[0;34m=\u001b[0m\u001b[0;34m'relu'\u001b[0m\u001b[0;34m,\u001b[0m\u001b[0;34m\u001b[0m\u001b[0;34m\u001b[0m\u001b[0m\n\u001b[1;32m      4\u001b[0m \u001b[0;34m\u001b[0m\u001b[0m\n\u001b[1;32m      5\u001b[0m                            padding='same'),\n",
      "\u001b[0;31mNameError\u001b[0m: name 'tf' is not defined"
     ]
    }
   ],
   "source": [
    "model = tf.keras.Sequential([\n",
    "    tf.keras.layers.Conv2D(32,(3,3),input_shape=(28,28,1),\n",
    "                           activation='relu',\n",
    "                           \n",
    "                           padding='same'),\n",
    "    \n",
    "    tf.keras.layers.MaxPooling2D((2,2)),\n",
    "    tf.keras.layers.Conv2D(64,(3,3),padding='same',activation='relu'),\n",
    "  \n",
    "    tf.keras.layers.MaxPooling2D((2,2)),\n",
    "    tf.keras.layers.Conv2D(128,(3,3),padding='same',activation='relu'),\n",
    "    \n",
    "    tf.keras.layers.MaxPooling2D((2,2)),\n",
    "    tf.keras.layers.Flatten(),\n",
    "    tf.keras.layers.Dense(512,activation='relu'),\n",
    "    tf.keras.layers.Dense(128,activation='relu'),\n",
    "    tf.keras.layers.Dense(10,activation='softmax')\n",
    "])\n",
    "\n",
    "model.compile(loss='categorical_crossentropy',\n",
    "              optimizer='adam',\n",
    "              metrics=['accuracy'])"
   ]
  },
  {
   "cell_type": "code",
   "execution_count": 42,
   "metadata": {},
   "outputs": [
    {
     "name": "stdout",
     "output_type": "stream",
     "text": [
      "Epoch 1/10\n",
      "1875/1875 [==============================] - 7s 4ms/step - loss: 0.1268 - accuracy: 0.9597 - val_loss: 0.0336 - val_accuracy: 0.9894\n",
      "Epoch 2/10\n",
      "1875/1875 [==============================] - 7s 4ms/step - loss: 0.0413 - accuracy: 0.9874 - val_loss: 0.0344 - val_accuracy: 0.9901\n",
      "Epoch 3/10\n",
      "1875/1875 [==============================] - 6s 3ms/step - loss: 0.0305 - accuracy: 0.9908 - val_loss: 0.0185 - val_accuracy: 0.9951\n",
      "Epoch 4/10\n",
      "1875/1875 [==============================] - 6s 3ms/step - loss: 0.0239 - accuracy: 0.9927 - val_loss: 0.0202 - val_accuracy: 0.9933\n",
      "Epoch 5/10\n",
      "1875/1875 [==============================] - 6s 3ms/step - loss: 0.0185 - accuracy: 0.9947 - val_loss: 0.0110 - val_accuracy: 0.9966\n",
      "Epoch 6/10\n",
      "1875/1875 [==============================] - 6s 3ms/step - loss: 0.0172 - accuracy: 0.9947 - val_loss: 0.0110 - val_accuracy: 0.9967\n",
      "Epoch 7/10\n",
      "1875/1875 [==============================] - 6s 3ms/step - loss: 0.0150 - accuracy: 0.9957 - val_loss: 0.0173 - val_accuracy: 0.9949\n",
      "Epoch 8/10\n",
      "1875/1875 [==============================] - 6s 3ms/step - loss: 0.0122 - accuracy: 0.9958 - val_loss: 0.0188 - val_accuracy: 0.9941\n",
      "Epoch 9/10\n",
      "1875/1875 [==============================] - 6s 3ms/step - loss: 0.0116 - accuracy: 0.9963 - val_loss: 0.0075 - val_accuracy: 0.9978\n",
      "Epoch 10/10\n",
      "1875/1875 [==============================] - 7s 4ms/step - loss: 0.0094 - accuracy: 0.9972 - val_loss: 0.0084 - val_accuracy: 0.9972\n"
     ]
    }
   ],
   "source": [
    "from sklearn.model_selection import train_test_split\n",
    "\n",
    "x_train,x_val,y_train,y_val = train_test_split(training_data1,training_labels1,test_size=0.2)\n",
    "\n",
    "history = model.fit(training_data1,training_labels1,\n",
    "          epochs=10,\n",
    "         validation_data=(x_val,y_val)\n",
    "         )"
   ]
  },
  {
   "cell_type": "code",
   "execution_count": 43,
   "metadata": {},
   "outputs": [
    {
     "data": {
      "image/png": "[encoded data removed]",
      "text/plain": [
       "<Figure size 432x288 with 1 Axes>"
      ]
     },
     "metadata": {
      "needs_background": "light"
     },
     "output_type": "display_data"
    }
   ],
   "source": [
    "plt.plot(history.history['loss'])\n",
    "plt.plot(history.history['val_loss'])\n",
    "plt.title('model accuracy')\n",
    "plt.ylabel('accuracy')\n",
    "plt.xlabel('epoch')\n",
    "plt.legend(['train', 'validation'])\n",
    "plt.show()"
   ]
  },
  {
   "cell_type": "code",
   "execution_count": 44,
   "metadata": {},
   "outputs": [],
   "source": [
    "testing_data = pd.read_csv('/kaggle/input/digit-recognizer/test.csv')\n",
    "testing_data = testing_data.to_numpy()\n",
    "testing_data = testing_data.reshape(-1,28,28,1)\n",
    "testing_data = testing_data.astype('float32')\n",
    "testing_data /= 255\n",
    "\n",
    "test_predictions = model.predict_classes(testing_data)\n",
    "image_ids =  np.arange(1,28001)\n",
    "submission = pd.DataFrame({\"ImageId\":image_ids,\"Label\":test_predictions})\n",
    "submission.to_csv('submission_digit_recignizer.csv',index=False)"
   ]
  },
  {
   "cell_type": "code",
   "execution_count": null,
   "metadata": {},
   "outputs": [],
   "source": []
  }
 ],
 "metadata": {
  "kernelspec": {
   "display_name": "Python 3",
   "language": "python",
   "name": "python3"
  },
  "language_info": {
   "codemirror_mode": {
    "name": "ipython",
    "version": 3
   },
   "file_extension": ".py",
   "mimetype": "text/x-python",
   "name": "python",
   "nbconvert_exporter": "python",
   "pygments_lexer": "ipython3",
   "version": "3.8.2"
  }
 },
 "nbformat": 4,
 "nbformat_minor": 4
}

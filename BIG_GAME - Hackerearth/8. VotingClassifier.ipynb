{
 "cells": [
  {
   "cell_type": "markdown",
   "metadata": {},
   "source": [
    "## VotingClassifier - [ BalancedBaggingClassifier, BalancedRandomForestClassifier, XGBClassifier ]"
   ]
  },
  {
   "cell_type": "code",
   "execution_count": 25,
   "metadata": {},
   "outputs": [],
   "source": [
    "import pandas as pd\n",
    "from xgboost import XGBClassifier, XGBRegressor\n",
    "from sklearn.preprocessing import LabelEncoder\n",
    "from sklearn.model_selection import train_test_split\n",
    "from sklearn.metrics import f1_score\n",
    "from sklearn.ensemble import BaggingClassifier, RandomForestClassifier, VotingClassifier, StackingClassifier\n",
    "from sklearn.tree import DecisionTreeClassifier, DecisionTreeRegressor\n",
    "from imblearn.ensemble import BalancedBaggingClassifier, BalancedRandomForestClassifier\n",
    "from sklearn.linear_model import LogisticRegression,LinearRegression"
   ]
  },
  {
   "cell_type": "code",
   "execution_count": 38,
   "metadata": {},
   "outputs": [
    {
     "name": "stdout",
     "output_type": "stream",
     "text": [
      "(8250, 10)\n"
     ]
    },
    {
     "data": {
      "text/plain": [
       "Index(['Average_Player_Age', 'Coach_Experience_Level', 'ID',\n",
       "       'Number_Of_First_Round_Draft_Picks', 'Number_Of_Injured_Players',\n",
       "       'Number_Of_Wins_This_Season', 'Playing_Style', 'Previous_SB_Wins',\n",
       "       'Team_Value', 'Won_Championship'],\n",
       "      dtype='object')"
      ]
     },
     "execution_count": 38,
     "metadata": {},
     "output_type": "execute_result"
    }
   ],
   "source": [
    "training_data = pd.read_csv('new_appended.csv')\n",
    "print(training_data.shape)\n",
    "training_data.columns"
   ]
  },
  {
   "cell_type": "markdown",
   "metadata": {},
   "source": [
    "### Dropping columns -- [ 'ID','Team_Value','Playing_Style','Won_Championship','Previous_SB_Wins' ]"
   ]
  },
  {
   "cell_type": "code",
   "execution_count": 39,
   "metadata": {
    "scrolled": true
   },
   "outputs": [
    {
     "data": {
      "text/html": [
       "<div>\n",
       "<style scoped>\n",
       "    .dataframe tbody tr th:only-of-type {\n",
       "        vertical-align: middle;\n",
       "    }\n",
       "\n",
       "    .dataframe tbody tr th {\n",
       "        vertical-align: top;\n",
       "    }\n",
       "\n",
       "    .dataframe thead th {\n",
       "        text-align: right;\n",
       "    }\n",
       "</style>\n",
       "<table border=\"1\" class=\"dataframe\">\n",
       "  <thead>\n",
       "    <tr style=\"text-align: right;\">\n",
       "      <th></th>\n",
       "      <th>Average_Player_Age</th>\n",
       "      <th>Coach_Experience_Level</th>\n",
       "      <th>Number_Of_First_Round_Draft_Picks</th>\n",
       "      <th>Number_Of_Injured_Players</th>\n",
       "      <th>Number_Of_Wins_This_Season</th>\n",
       "    </tr>\n",
       "  </thead>\n",
       "  <tbody>\n",
       "    <tr>\n",
       "      <td>0</td>\n",
       "      <td>27</td>\n",
       "      <td>2</td>\n",
       "      <td>2</td>\n",
       "      <td>1</td>\n",
       "      <td>13</td>\n",
       "    </tr>\n",
       "    <tr>\n",
       "      <td>1</td>\n",
       "      <td>26</td>\n",
       "      <td>2</td>\n",
       "      <td>2</td>\n",
       "      <td>1</td>\n",
       "      <td>14</td>\n",
       "    </tr>\n",
       "    <tr>\n",
       "      <td>2</td>\n",
       "      <td>27</td>\n",
       "      <td>2</td>\n",
       "      <td>1</td>\n",
       "      <td>2</td>\n",
       "      <td>13</td>\n",
       "    </tr>\n",
       "    <tr>\n",
       "      <td>3</td>\n",
       "      <td>27</td>\n",
       "      <td>2</td>\n",
       "      <td>2</td>\n",
       "      <td>6</td>\n",
       "      <td>12</td>\n",
       "    </tr>\n",
       "    <tr>\n",
       "      <td>4</td>\n",
       "      <td>26</td>\n",
       "      <td>2</td>\n",
       "      <td>2</td>\n",
       "      <td>1</td>\n",
       "      <td>15</td>\n",
       "    </tr>\n",
       "  </tbody>\n",
       "</table>\n",
       "</div>"
      ],
      "text/plain": [
       "   Average_Player_Age  Coach_Experience_Level  \\\n",
       "0                  27                       2   \n",
       "1                  26                       2   \n",
       "2                  27                       2   \n",
       "3                  27                       2   \n",
       "4                  26                       2   \n",
       "\n",
       "   Number_Of_First_Round_Draft_Picks  Number_Of_Injured_Players  \\\n",
       "0                                  2                          1   \n",
       "1                                  2                          1   \n",
       "2                                  1                          2   \n",
       "3                                  2                          6   \n",
       "4                                  2                          1   \n",
       "\n",
       "   Number_Of_Wins_This_Season  \n",
       "0                          13  \n",
       "1                          14  \n",
       "2                          13  \n",
       "3                          12  \n",
       "4                          15  "
      ]
     },
     "execution_count": 39,
     "metadata": {},
     "output_type": "execute_result"
    }
   ],
   "source": [
    "y = training_data.Won_Championship\n",
    "training_data = training_data.drop(columns=['Won_Championship','ID','Team_Value','Playing_Style','Previous_SB_Wins'],axis=1)\n",
    "\n",
    "le_Number_Of_Injured_Players = LabelEncoder()\n",
    "training_data['Number_Of_Injured_Players'] = le_Number_Of_Injured_Players.fit_transform(training_data['Number_Of_Injured_Players'])\n",
    "\n",
    "le_Coach_Experience_Level = LabelEncoder()\n",
    "training_data['Coach_Experience_Level'] = le_Coach_Experience_Level.fit_transform(training_data['Coach_Experience_Level'])\n",
    "training_data.head()"
   ]
  },
  {
   "cell_type": "code",
   "execution_count": null,
   "metadata": {},
   "outputs": [],
   "source": []
  },
  {
   "cell_type": "markdown",
   "metadata": {},
   "source": [
    "### Performing OverSampling"
   ]
  },
  {
   "cell_type": "code",
   "execution_count": 40,
   "metadata": {},
   "outputs": [
    {
     "name": "stdout",
     "output_type": "stream",
     "text": [
      "(8278, 5) --- (8250, 5)\n",
      "(8278,) --- 8250\n"
     ]
    }
   ],
   "source": [
    "from imblearn.over_sampling import SVMSMOTE\n",
    "\n",
    "sm = SVMSMOTE()\n",
    "X,Y = sm.fit_resample(training_data,y)\n",
    "print(X.shape,'---',training_data.shape)\n",
    "print(Y.shape,'---',len(y))"
   ]
  },
  {
   "cell_type": "code",
   "execution_count": 41,
   "metadata": {},
   "outputs": [],
   "source": [
    "x_train,x_test, y_train, y_test = train_test_split(X,Y,test_size=0.2)"
   ]
  },
  {
   "cell_type": "code",
   "execution_count": null,
   "metadata": {},
   "outputs": [],
   "source": []
  },
  {
   "cell_type": "code",
   "execution_count": 42,
   "metadata": {},
   "outputs": [
    {
     "data": {
      "text/plain": [
       "81.67664670658682"
      ]
     },
     "execution_count": 42,
     "metadata": {},
     "output_type": "execute_result"
    }
   ],
   "source": [
    "bags = BalancedBaggingClassifier(n_estimators=500,oob_score=True,bootstrap_features=True,\n",
    "                                 replacement=True,sampling_strategy='all')\n",
    "bags.fit(x_train,y_train)\n",
    "#bags.fit(training_data,y)\n",
    "prediction = bags.predict(x_test)\n",
    "acc = 100 * (f1_score(y_test,prediction,average='binary'))\n",
    "acc"
   ]
  },
  {
   "cell_type": "code",
   "execution_count": 43,
   "metadata": {},
   "outputs": [
    {
     "data": {
      "text/plain": [
       "82.00238379022646"
      ]
     },
     "execution_count": 43,
     "metadata": {},
     "output_type": "execute_result"
    }
   ],
   "source": [
    "bal_rfc = BalancedRandomForestClassifier(class_weight='balanced_subsample',criterion='entropy',\n",
    "                                         sampling_strategy='all',replacement=True,max_depth=50)\n",
    "bal_rfc.fit(x_train,y_train)\n",
    "#bal_rfc.fit(training_data,y)\n",
    "prediction = bal_rfc.predict(x_test)\n",
    "acc = 100 * (f1_score(y_test,prediction,average='binary'))\n",
    "acc"
   ]
  },
  {
   "cell_type": "code",
   "execution_count": 44,
   "metadata": {},
   "outputs": [
    {
     "data": {
      "text/plain": [
       "81.78041543026707"
      ]
     },
     "execution_count": 44,
     "metadata": {},
     "output_type": "execute_result"
    }
   ],
   "source": [
    "xgb = XGBClassifier(n_estimators=500,learning_rate=0.1,max_depth=50,reg_lambda=0.1,\n",
    "                    importance_type='total_gain')\n",
    "xgb.fit(x_train,y_train)\n",
    "#xgb.fit(training_data,y)\n",
    "prediction = xgb.predict(x_test)\n",
    "acc = 100 * (f1_score(y_test,prediction,average='binary'))\n",
    "acc"
   ]
  },
  {
   "cell_type": "code",
   "execution_count": 45,
   "metadata": {},
   "outputs": [
    {
     "data": {
      "text/plain": [
       "81.89349112426035"
      ]
     },
     "execution_count": 45,
     "metadata": {},
     "output_type": "execute_result"
    }
   ],
   "source": [
    "dtc = DecisionTreeClassifier(criterion='entropy',class_weight='balanced')\n",
    "dtc.fit(x_train,y_train)\n",
    "#xgb.fit(training_data,y)\n",
    "prediction = dtc.predict(x_test)\n",
    "acc = 100 * (f1_score(y_test,prediction,average='binary'))\n",
    "acc"
   ]
  },
  {
   "cell_type": "code",
   "execution_count": null,
   "metadata": {},
   "outputs": [],
   "source": []
  },
  {
   "cell_type": "code",
   "execution_count": 46,
   "metadata": {},
   "outputs": [
    {
     "data": {
      "text/plain": [
       "VotingClassifier(estimators=[('bag',\n",
       "                              BalancedBaggingClassifier(base_estimator=None,\n",
       "                                                        bootstrap=True,\n",
       "                                                        bootstrap_features=True,\n",
       "                                                        max_features=1.0,\n",
       "                                                        max_samples=1.0,\n",
       "                                                        n_estimators=500,\n",
       "                                                        n_jobs=None,\n",
       "                                                        oob_score=True,\n",
       "                                                        random_state=None,\n",
       "                                                        replacement=True,\n",
       "                                                        sampling_strategy='all',\n",
       "                                                        verbose=0,\n",
       "                                                        warm_start=False)),\n",
       "                             ('rfc',\n",
       "                              BalancedRandomForestClassifier(bootstrap=True,\n",
       "                                                             ccp_alpha=0...\n",
       "                              DecisionTreeClassifier(ccp_alpha=0.0,\n",
       "                                                     class_weight='balanced',\n",
       "                                                     criterion='entropy',\n",
       "                                                     max_depth=None,\n",
       "                                                     max_features=None,\n",
       "                                                     max_leaf_nodes=None,\n",
       "                                                     min_impurity_decrease=0.0,\n",
       "                                                     min_impurity_split=None,\n",
       "                                                     min_samples_leaf=1,\n",
       "                                                     min_samples_split=2,\n",
       "                                                     min_weight_fraction_leaf=0.0,\n",
       "                                                     presort='deprecated',\n",
       "                                                     random_state=None,\n",
       "                                                     splitter='best'))],\n",
       "                 flatten_transform=True, n_jobs=None, voting='soft',\n",
       "                 weights=None)"
      ]
     },
     "execution_count": 46,
     "metadata": {},
     "output_type": "execute_result"
    }
   ],
   "source": [
    "bag = BalancedBaggingClassifier(n_estimators=500,oob_score=True,bootstrap_features=True,\n",
    "                                 replacement=True,sampling_strategy='all')\n",
    "xgb = XGBClassifier(n_estimators=500,learning_rate=0.1,max_depth=10,reg_lambda=0.1,\n",
    "                    importance_type='total_gain')\n",
    "bal_rfc = BalancedRandomForestClassifier(class_weight='balanced_subsample',criterion='entropy',\n",
    "                                         sampling_strategy='all',replacement=True,\n",
    "                                         n_estimators=100)\n",
    "dtc = DecisionTreeClassifier(criterion='entropy',class_weight='balanced')\n",
    "voting = VotingClassifier(estimators=[\n",
    "        ('bag', bag), ('rfc', bal_rfc), ('xgb', xgb),('dtc',dtc)], voting='soft')\n",
    "voting.fit(X, Y)"
   ]
  },
  {
   "cell_type": "code",
   "execution_count": 47,
   "metadata": {},
   "outputs": [
    {
     "data": {
      "text/plain": [
       "array([0.81219807, 0.81038647, 0.83635266, 0.82296073, 0.81148036,\n",
       "       0.83574879, 0.82427536, 0.82125604, 0.80422961, 0.80483384,\n",
       "       0.81099034, 0.8115942 , 0.82608696, 0.83685801, 0.8102719 ])"
      ]
     },
     "execution_count": 47,
     "metadata": {},
     "output_type": "execute_result"
    }
   ],
   "source": [
    "from sklearn.model_selection import cross_val_score, RepeatedStratifiedKFold\n",
    "\n",
    "cv = RepeatedStratifiedKFold(n_repeats=3,n_splits=5)\n",
    "cross_val_score(voting,X,Y,cv=cv)"
   ]
  },
  {
   "cell_type": "code",
   "execution_count": 48,
   "metadata": {},
   "outputs": [
    {
     "data": {
      "text/plain": [
       "82.31300763728937"
      ]
     },
     "execution_count": 48,
     "metadata": {},
     "output_type": "execute_result"
    }
   ],
   "source": [
    "prediction = voting.predict(X)\n",
    "acc = 100 * (f1_score(Y,prediction,average='binary'))\n",
    "acc"
   ]
  },
  {
   "cell_type": "code",
   "execution_count": null,
   "metadata": {},
   "outputs": [],
   "source": []
  },
  {
   "cell_type": "code",
   "execution_count": null,
   "metadata": {},
   "outputs": [],
   "source": []
  },
  {
   "cell_type": "code",
   "execution_count": 49,
   "metadata": {},
   "outputs": [
    {
     "name": "stdout",
     "output_type": "stream",
     "text": [
      "(3500, 5)\n"
     ]
    }
   ],
   "source": [
    "#training_data = training_data.drop(columns=['Won_Championship'],axis=1)\n",
    "cols = training_data.columns\n",
    "test_data = pd.read_csv('test.csv')\n",
    "event_id = test_data['ID']\n",
    "\n",
    "test_data = test_data[cols]\n",
    "\n",
    "print(test_data.shape)\n",
    "#test_data = test_data.drop(columns=['ID','Team_Value','Playing_Style','Previous_SB_Wins'],axis=1)\n",
    "\n",
    "test_data['Number_Of_Injured_Players'] = le_Number_Of_Injured_Players.fit_transform(test_data['Number_Of_Injured_Players'])\n",
    "\n",
    "test_data['Coach_Experience_Level'] = le_Coach_Experience_Level.fit_transform(test_data['Coach_Experience_Level'])\n",
    "\n",
    "\n",
    "predictions = voting.predict(test_data)\n",
    "result_df = pd.DataFrame({'ID':event_id,'Won_Championship':predictions})\n",
    "result_df.to_csv('Prediction.csv',index=False)"
   ]
  },
  {
   "cell_type": "markdown",
   "metadata": {},
   "source": [
    "#### Online ACCURACY - 76.22, when local accuracy - 82.31 on whole data (VotingClassifier)"
   ]
  },
  {
   "cell_type": "code",
   "execution_count": null,
   "metadata": {},
   "outputs": [],
   "source": []
  },
  {
   "cell_type": "code",
   "execution_count": null,
   "metadata": {},
   "outputs": [],
   "source": []
  },
  {
   "cell_type": "code",
   "execution_count": null,
   "metadata": {},
   "outputs": [],
   "source": []
  }
 ],
 "metadata": {
  "kernelspec": {
   "display_name": "Python 3",
   "language": "python",
   "name": "python3"
  },
  "language_info": {
   "codemirror_mode": {
    "name": "ipython",
    "version": 3
   },
   "file_extension": ".py",
   "mimetype": "text/x-python",
   "name": "python",
   "nbconvert_exporter": "python",
   "pygments_lexer": "ipython3",
   "version": "3.7.4"
  }
 },
 "nbformat": 4,
 "nbformat_minor": 2
}

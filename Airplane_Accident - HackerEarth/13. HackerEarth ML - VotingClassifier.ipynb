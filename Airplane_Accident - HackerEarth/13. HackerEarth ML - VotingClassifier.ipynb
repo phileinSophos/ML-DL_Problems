{
 "cells": [
  {
   "cell_type": "markdown",
   "metadata": {},
   "source": [
    "## Importing all the required libraries"
   ]
  },
  {
   "cell_type": "code",
   "execution_count": 15,
   "metadata": {},
   "outputs": [],
   "source": [
    "import pandas as pd\n",
    "from sklearn.model_selection import train_test_split\n",
    "from sklearn.metrics import accuracy_score, f1_score\n",
    "from sklearn.preprocessing import LabelEncoder\n",
    "from sklearn.ensemble import BaggingClassifier, RandomForestClassifier, VotingClassifier\n",
    "from sklearn.tree import DecisionTreeClassifier\n",
    "from sklearn.linear_model import LogisticRegression,LinearRegression\n",
    "from sklearn.multiclass import OneVsRestClassifier"
   ]
  },
  {
   "cell_type": "markdown",
   "metadata": {},
   "source": [
    "### Reading the training dataset to Pandas DataFrame"
   ]
  },
  {
   "cell_type": "code",
   "execution_count": 16,
   "metadata": {},
   "outputs": [
    {
     "data": {
      "text/html": [
       "<div>\n",
       "<style scoped>\n",
       "    .dataframe tbody tr th:only-of-type {\n",
       "        vertical-align: middle;\n",
       "    }\n",
       "\n",
       "    .dataframe tbody tr th {\n",
       "        vertical-align: top;\n",
       "    }\n",
       "\n",
       "    .dataframe thead th {\n",
       "        text-align: right;\n",
       "    }\n",
       "</style>\n",
       "<table border=\"1\" class=\"dataframe\">\n",
       "  <thead>\n",
       "    <tr style=\"text-align: right;\">\n",
       "      <th></th>\n",
       "      <th>Accident_ID</th>\n",
       "      <th>Accident_Type_Code</th>\n",
       "      <th>Adverse_Weather_Metric</th>\n",
       "      <th>Cabin_Temperature</th>\n",
       "      <th>Control_Metric</th>\n",
       "      <th>Days_Since_Inspection</th>\n",
       "      <th>Max_Elevation</th>\n",
       "      <th>Safety_Score</th>\n",
       "      <th>Severity</th>\n",
       "      <th>Total_Safety_Complaints</th>\n",
       "      <th>Turbulence_In_gforces</th>\n",
       "      <th>Violations</th>\n",
       "    </tr>\n",
       "  </thead>\n",
       "  <tbody>\n",
       "    <tr>\n",
       "      <td>0</td>\n",
       "      <td>7570.0</td>\n",
       "      <td>2.0</td>\n",
       "      <td>0.424352</td>\n",
       "      <td>78.04</td>\n",
       "      <td>71.285324</td>\n",
       "      <td>14.0</td>\n",
       "      <td>31335.476824</td>\n",
       "      <td>49.223744</td>\n",
       "      <td>Minor_Damage_And_Injuries</td>\n",
       "      <td>22.0</td>\n",
       "      <td>0.272118</td>\n",
       "      <td>3.0</td>\n",
       "    </tr>\n",
       "    <tr>\n",
       "      <td>1</td>\n",
       "      <td>12128.0</td>\n",
       "      <td>2.0</td>\n",
       "      <td>0.352350</td>\n",
       "      <td>84.54</td>\n",
       "      <td>72.288058</td>\n",
       "      <td>10.0</td>\n",
       "      <td>26024.711057</td>\n",
       "      <td>62.465753</td>\n",
       "      <td>Minor_Damage_And_Injuries</td>\n",
       "      <td>27.0</td>\n",
       "      <td>0.423939</td>\n",
       "      <td>2.0</td>\n",
       "    </tr>\n",
       "    <tr>\n",
       "      <td>2</td>\n",
       "      <td>2181.0</td>\n",
       "      <td>7.0</td>\n",
       "      <td>0.003364</td>\n",
       "      <td>78.86</td>\n",
       "      <td>66.362808</td>\n",
       "      <td>13.0</td>\n",
       "      <td>39269.053927</td>\n",
       "      <td>63.059361</td>\n",
       "      <td>Significant_Damage_And_Fatalities</td>\n",
       "      <td>16.0</td>\n",
       "      <td>0.322604</td>\n",
       "      <td>3.0</td>\n",
       "    </tr>\n",
       "    <tr>\n",
       "      <td>3</td>\n",
       "      <td>5946.0</td>\n",
       "      <td>3.0</td>\n",
       "      <td>0.211728</td>\n",
       "      <td>81.79</td>\n",
       "      <td>74.703737</td>\n",
       "      <td>11.0</td>\n",
       "      <td>42771.499200</td>\n",
       "      <td>48.082192</td>\n",
       "      <td>Significant_Damage_And_Serious_Injuries</td>\n",
       "      <td>9.0</td>\n",
       "      <td>0.337029</td>\n",
       "      <td>1.0</td>\n",
       "    </tr>\n",
       "    <tr>\n",
       "      <td>4</td>\n",
       "      <td>9054.0</td>\n",
       "      <td>3.0</td>\n",
       "      <td>0.176883</td>\n",
       "      <td>77.16</td>\n",
       "      <td>47.948952</td>\n",
       "      <td>13.0</td>\n",
       "      <td>35509.228515</td>\n",
       "      <td>26.484018</td>\n",
       "      <td>Significant_Damage_And_Fatalities</td>\n",
       "      <td>25.0</td>\n",
       "      <td>0.541140</td>\n",
       "      <td>2.0</td>\n",
       "    </tr>\n",
       "  </tbody>\n",
       "</table>\n",
       "</div>"
      ],
      "text/plain": [
       "   Accident_ID  Accident_Type_Code  Adverse_Weather_Metric  Cabin_Temperature  \\\n",
       "0       7570.0                 2.0                0.424352              78.04   \n",
       "1      12128.0                 2.0                0.352350              84.54   \n",
       "2       2181.0                 7.0                0.003364              78.86   \n",
       "3       5946.0                 3.0                0.211728              81.79   \n",
       "4       9054.0                 3.0                0.176883              77.16   \n",
       "\n",
       "   Control_Metric  Days_Since_Inspection  Max_Elevation  Safety_Score  \\\n",
       "0       71.285324                   14.0   31335.476824     49.223744   \n",
       "1       72.288058                   10.0   26024.711057     62.465753   \n",
       "2       66.362808                   13.0   39269.053927     63.059361   \n",
       "3       74.703737                   11.0   42771.499200     48.082192   \n",
       "4       47.948952                   13.0   35509.228515     26.484018   \n",
       "\n",
       "                                  Severity  Total_Safety_Complaints  \\\n",
       "0                Minor_Damage_And_Injuries                     22.0   \n",
       "1                Minor_Damage_And_Injuries                     27.0   \n",
       "2        Significant_Damage_And_Fatalities                     16.0   \n",
       "3  Significant_Damage_And_Serious_Injuries                      9.0   \n",
       "4        Significant_Damage_And_Fatalities                     25.0   \n",
       "\n",
       "   Turbulence_In_gforces  Violations  \n",
       "0               0.272118         3.0  \n",
       "1               0.423939         2.0  \n",
       "2               0.322604         3.0  \n",
       "3               0.337029         1.0  \n",
       "4               0.541140         2.0  "
      ]
     },
     "execution_count": 16,
     "metadata": {},
     "output_type": "execute_result"
    }
   ],
   "source": [
    "data = pd.read_csv('new_appended.csv')\n",
    "data.head()"
   ]
  },
  {
   "cell_type": "markdown",
   "metadata": {},
   "source": [
    "### Getting the target variables to Y variable"
   ]
  },
  {
   "cell_type": "code",
   "execution_count": 17,
   "metadata": {},
   "outputs": [
    {
     "data": {
      "text/plain": [
       "(12245,)"
      ]
     },
     "execution_count": 17,
     "metadata": {},
     "output_type": "execute_result"
    }
   ],
   "source": [
    "Y = data['Severity']\n",
    "Y.shape"
   ]
  },
  {
   "cell_type": "markdown",
   "metadata": {},
   "source": [
    "### Dropoing the irrelevent columns from training data"
   ]
  },
  {
   "cell_type": "code",
   "execution_count": 18,
   "metadata": {
    "scrolled": true
   },
   "outputs": [
    {
     "data": {
      "text/plain": [
       "Index(['Cabin_Temperature', 'Control_Metric', 'Days_Since_Inspection',\n",
       "       'Max_Elevation', 'Safety_Score', 'Total_Safety_Complaints',\n",
       "       'Turbulence_In_gforces', 'Violations'],\n",
       "      dtype='object')"
      ]
     },
     "execution_count": 18,
     "metadata": {},
     "output_type": "execute_result"
    }
   ],
   "source": [
    "data = data.drop(columns=['Severity','Accident_ID','Adverse_Weather_Metric','Accident_Type_Code'],axis=1)\n",
    "data.columns"
   ]
  },
  {
   "cell_type": "markdown",
   "metadata": {},
   "source": [
    "### creating the Label Encoder object which will encode the target severities to numerical form"
   ]
  },
  {
   "cell_type": "code",
   "execution_count": 19,
   "metadata": {},
   "outputs": [],
   "source": [
    "label_encode = LabelEncoder()\n",
    "y = label_encode.fit_transform(Y)"
   ]
  },
  {
   "cell_type": "code",
   "execution_count": 20,
   "metadata": {},
   "outputs": [],
   "source": [
    "x_train,x_test,y_train,y_test = train_test_split(data,y,test_size=0.2)"
   ]
  },
  {
   "cell_type": "code",
   "execution_count": 21,
   "metadata": {},
   "outputs": [],
   "source": [
    "from xgboost import XGBClassifier"
   ]
  },
  {
   "cell_type": "code",
   "execution_count": 22,
   "metadata": {},
   "outputs": [],
   "source": [
    "e_set=[(x_train, y_train), (x_test, y_test)]\n",
    "\n",
    "xgb = XGBClassifier(n_estimators=500,learning_rate=0.1,max_depth=10,reg_lambda=0.1,importance_type='total_gain',\n",
    "                base_score=0.1,min_child_weight=0.1,scale_pos_weight=0.5)"
   ]
  },
  {
   "cell_type": "code",
   "execution_count": 23,
   "metadata": {},
   "outputs": [],
   "source": [
    "#xgb.fit(x_train,y_train)"
   ]
  },
  {
   "cell_type": "code",
   "execution_count": 24,
   "metadata": {},
   "outputs": [],
   "source": [
    "# predictions = xgb.predict(x_test)\n",
    "# acc = 100 * (f1_score(y_test,predictions,average='weighted'))\n",
    "# acc"
   ]
  },
  {
   "cell_type": "code",
   "execution_count": 25,
   "metadata": {},
   "outputs": [],
   "source": [
    "dtc = DecisionTreeClassifier(criterion='entropy',max_depth=10,class_weight='balanced')\n",
    "bag = BaggingClassifier(n_estimators=150,oob_score=True, bootstrap_features=True,base_estimator=dtc)"
   ]
  },
  {
   "cell_type": "code",
   "execution_count": 26,
   "metadata": {},
   "outputs": [],
   "source": [
    "rfc = RandomForestClassifier(n_estimators=150,criterion='entropy',max_depth=10,oob_score=True,class_weight='balanced')"
   ]
  },
  {
   "cell_type": "code",
   "execution_count": 34,
   "metadata": {},
   "outputs": [
    {
     "data": {
      "text/plain": [
       "VotingClassifier(estimators=[('lr',\n",
       "                              BaggingClassifier(base_estimator=DecisionTreeClassifier(ccp_alpha=0.0,\n",
       "                                                                                      class_weight='balanced',\n",
       "                                                                                      criterion='entropy',\n",
       "                                                                                      max_depth=10,\n",
       "                                                                                      max_features=None,\n",
       "                                                                                      max_leaf_nodes=None,\n",
       "                                                                                      min_impurity_decrease=0.0,\n",
       "                                                                                      min_impurity_split=None,\n",
       "                                                                                      min_samples_leaf=1,\n",
       "                                                                                      min_samples_split=2,\n",
       "                                                                                      min_weight_fraction_leaf=0.0,\n",
       "                                                                                      presort='deprecated',\n",
       "                                                                                      random_stat...\n",
       "                                                     criterion='entropy',\n",
       "                                                     max_depth=10,\n",
       "                                                     max_features='auto',\n",
       "                                                     max_leaf_nodes=None,\n",
       "                                                     max_samples=None,\n",
       "                                                     min_impurity_decrease=0.0,\n",
       "                                                     min_impurity_split=None,\n",
       "                                                     min_samples_leaf=1,\n",
       "                                                     min_samples_split=2,\n",
       "                                                     min_weight_fraction_leaf=0.0,\n",
       "                                                     n_estimators=150,\n",
       "                                                     n_jobs=None,\n",
       "                                                     oob_score=True,\n",
       "                                                     random_state=None,\n",
       "                                                     verbose=0,\n",
       "                                                     warm_start=False))],\n",
       "                 flatten_transform=True, n_jobs=None, voting='soft',\n",
       "                 weights=None)"
      ]
     },
     "execution_count": 34,
     "metadata": {},
     "output_type": "execute_result"
    }
   ],
   "source": [
    "voting = VotingClassifier(estimators=[\n",
    "        ('lr', bag), ('rf', xgb), ('gnb', rfc)], voting='soft')\n",
    "voting.fit(data,y)"
   ]
  },
  {
   "cell_type": "code",
   "execution_count": 35,
   "metadata": {},
   "outputs": [
    {
     "data": {
      "text/plain": [
       "100.0"
      ]
     },
     "execution_count": 35,
     "metadata": {},
     "output_type": "execute_result"
    }
   ],
   "source": [
    "predictions = voting.predict(x_test)\n",
    "acc = 100 * (f1_score(y_test,predictions,average='weighted'))\n",
    "acc"
   ]
  },
  {
   "cell_type": "code",
   "execution_count": null,
   "metadata": {},
   "outputs": [],
   "source": []
  },
  {
   "cell_type": "code",
   "execution_count": null,
   "metadata": {},
   "outputs": [],
   "source": []
  },
  {
   "cell_type": "code",
   "execution_count": null,
   "metadata": {},
   "outputs": [],
   "source": []
  },
  {
   "cell_type": "code",
   "execution_count": null,
   "metadata": {},
   "outputs": [],
   "source": []
  },
  {
   "cell_type": "code",
   "execution_count": 36,
   "metadata": {},
   "outputs": [
    {
     "name": "stdout",
     "output_type": "stream",
     "text": [
      "(2500, 11)\n"
     ]
    }
   ],
   "source": [
    "test_data = pd.read_csv('test.csv')\n",
    "accident_id = test_data['Accident_ID']\n",
    "print(test_data.shape)\n",
    "test_data = test_data.drop(columns=['Accident_ID','Adverse_Weather_Metric','Accident_Type_Code'],axis=1)\n",
    "cols = ['Cabin_Temperature', 'Control_Metric', 'Days_Since_Inspection',\n",
    "       'Max_Elevation', 'Safety_Score', 'Total_Safety_Complaints',\n",
    "       'Turbulence_In_gforces', 'Violations']\n",
    "test_data = test_data[cols]\n",
    "predictions = voting.predict(test_data)\n",
    "predictions = label_encode.inverse_transform(predictions)\n",
    "result_df = pd.DataFrame({'Accident_ID':accident_id,'Severity':predictions})\n",
    "result_df.to_csv('Prediction.csv',index=False)"
   ]
  },
  {
   "cell_type": "markdown",
   "metadata": {},
   "source": [
    "### Accuracy - 85.81"
   ]
  },
  {
   "cell_type": "code",
   "execution_count": null,
   "metadata": {},
   "outputs": [],
   "source": []
  },
  {
   "cell_type": "code",
   "execution_count": null,
   "metadata": {},
   "outputs": [],
   "source": []
  },
  {
   "cell_type": "code",
   "execution_count": 33,
   "metadata": {},
   "outputs": [
    {
     "data": {
      "text/plain": [
       "2416"
      ]
     },
     "execution_count": 33,
     "metadata": {},
     "output_type": "execute_result"
    }
   ],
   "source": [
    "t1 = pd.read_csv('Prediction_xgb1.csv')\n",
    "t2 = pd.read_csv('Prediction_xgb2.csv')\n",
    "t3 = pd.read_csv('Prediction_xgb3.csv')\n",
    "t4 = pd.read_csv('Prediction_xgb4.csv')\n",
    "\n",
    "count = 0\n",
    "row = []\n",
    "for i in range(len(t1)):\n",
    "    if t4.iloc[i]['Severity'] == t1.iloc[i]['Severity']:\n",
    "        if t4.iloc[i]['Severity'] == t2.iloc[i]['Severity']:\n",
    "            if t4.iloc[i]['Severity'] == t3.iloc[i]['Severity']:\n",
    "                count += 1\n",
    "                row.append(i)\n",
    "        \n",
    "count"
   ]
  },
  {
   "cell_type": "code",
   "execution_count": 2,
   "metadata": {},
   "outputs": [],
   "source": [
    "import random"
   ]
  },
  {
   "cell_type": "code",
   "execution_count": 190,
   "metadata": {},
   "outputs": [
    {
     "data": {
      "text/plain": [
       "944"
      ]
     },
     "execution_count": 190,
     "metadata": {},
     "output_type": "execute_result"
    }
   ],
   "source": [
    "for i in range(1500):\n",
    "    row.pop(random.randrange(len(row)))\n",
    "    \n",
    "len(row)"
   ]
  },
  {
   "cell_type": "code",
   "execution_count": null,
   "metadata": {},
   "outputs": [],
   "source": []
  }
 ],
 "metadata": {
  "kernelspec": {
   "display_name": "Python 3",
   "language": "python",
   "name": "python3"
  },
  "language_info": {
   "codemirror_mode": {
    "name": "ipython",
    "version": 3
   },
   "file_extension": ".py",
   "mimetype": "text/x-python",
   "name": "python",
   "nbconvert_exporter": "python",
   "pygments_lexer": "ipython3",
   "version": "3.7.4"
  }
 },
 "nbformat": 4,
 "nbformat_minor": 2
}

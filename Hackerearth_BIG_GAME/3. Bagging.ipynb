{
 "cells": [
  {
   "cell_type": "code",
   "execution_count": 11,
   "metadata": {},
   "outputs": [],
   "source": [
    "import pandas as pd\n",
    "from xgboost import XGBClassifier\n",
    "from sklearn.preprocessing import LabelEncoder\n",
    "from sklearn.model_selection import train_test_split\n",
    "from sklearn.metrics import f1_score\n",
    "from sklearn.ensemble import BaggingClassifier, RandomForestClassifier\n",
    "from sklearn.multiclass import OneVsOneClassifier,OneVsRestClassifier\n",
    "from sklearn.svm import LinearSVC, SVC\n",
    "from sklearn.linear_model import LinearRegression, LogisticRegression, RidgeClassifier\n",
    "from sklearn.tree import DecisionTreeClassifier, DecisionTreeRegressor\n",
    "from sklearn.neighbors import KNeighborsClassifier\n"
   ]
  },
  {
   "cell_type": "code",
   "execution_count": 12,
   "metadata": {},
   "outputs": [
    {
     "data": {
      "text/plain": [
       "Index(['Won_Championship', 'Previous_SB_Wins', 'Number_Of_Wins_This_Season',\n",
       "       'Number_Of_First_Round_Draft_Picks', 'Team_Value', 'Playing_Style',\n",
       "       'Average_Player_Age', 'Number_Of_Injured_Players',\n",
       "       'Coach_Experience_Level', 'ID'],\n",
       "      dtype='object')"
      ]
     },
     "execution_count": 12,
     "metadata": {},
     "output_type": "execute_result"
    }
   ],
   "source": [
    "training_data = pd.read_csv('train.csv')\n",
    "training_data.columns"
   ]
  },
  {
   "cell_type": "code",
   "execution_count": 13,
   "metadata": {},
   "outputs": [
    {
     "data": {
      "text/html": [
       "<div>\n",
       "<style scoped>\n",
       "    .dataframe tbody tr th:only-of-type {\n",
       "        vertical-align: middle;\n",
       "    }\n",
       "\n",
       "    .dataframe tbody tr th {\n",
       "        vertical-align: top;\n",
       "    }\n",
       "\n",
       "    .dataframe thead th {\n",
       "        text-align: right;\n",
       "    }\n",
       "</style>\n",
       "<table border=\"1\" class=\"dataframe\">\n",
       "  <thead>\n",
       "    <tr style=\"text-align: right;\">\n",
       "      <th></th>\n",
       "      <th>Won_Championship</th>\n",
       "      <th>Previous_SB_Wins</th>\n",
       "      <th>Number_Of_Wins_This_Season</th>\n",
       "      <th>Number_Of_First_Round_Draft_Picks</th>\n",
       "      <th>Team_Value</th>\n",
       "      <th>Playing_Style</th>\n",
       "      <th>Average_Player_Age</th>\n",
       "      <th>Number_Of_Injured_Players</th>\n",
       "      <th>Coach_Experience_Level</th>\n",
       "    </tr>\n",
       "  </thead>\n",
       "  <tbody>\n",
       "    <tr>\n",
       "      <td>0</td>\n",
       "      <td>0</td>\n",
       "      <td>3</td>\n",
       "      <td>13</td>\n",
       "      <td>2</td>\n",
       "      <td>1</td>\n",
       "      <td>2</td>\n",
       "      <td>27</td>\n",
       "      <td>1</td>\n",
       "      <td>2</td>\n",
       "    </tr>\n",
       "    <tr>\n",
       "      <td>1</td>\n",
       "      <td>0</td>\n",
       "      <td>2</td>\n",
       "      <td>14</td>\n",
       "      <td>2</td>\n",
       "      <td>1</td>\n",
       "      <td>1</td>\n",
       "      <td>26</td>\n",
       "      <td>1</td>\n",
       "      <td>2</td>\n",
       "    </tr>\n",
       "    <tr>\n",
       "      <td>2</td>\n",
       "      <td>1</td>\n",
       "      <td>2</td>\n",
       "      <td>13</td>\n",
       "      <td>1</td>\n",
       "      <td>1</td>\n",
       "      <td>0</td>\n",
       "      <td>27</td>\n",
       "      <td>2</td>\n",
       "      <td>2</td>\n",
       "    </tr>\n",
       "    <tr>\n",
       "      <td>3</td>\n",
       "      <td>0</td>\n",
       "      <td>2</td>\n",
       "      <td>12</td>\n",
       "      <td>2</td>\n",
       "      <td>0</td>\n",
       "      <td>2</td>\n",
       "      <td>27</td>\n",
       "      <td>6</td>\n",
       "      <td>2</td>\n",
       "    </tr>\n",
       "    <tr>\n",
       "      <td>4</td>\n",
       "      <td>0</td>\n",
       "      <td>1</td>\n",
       "      <td>15</td>\n",
       "      <td>2</td>\n",
       "      <td>1</td>\n",
       "      <td>2</td>\n",
       "      <td>26</td>\n",
       "      <td>1</td>\n",
       "      <td>2</td>\n",
       "    </tr>\n",
       "  </tbody>\n",
       "</table>\n",
       "</div>"
      ],
      "text/plain": [
       "   Won_Championship  Previous_SB_Wins  Number_Of_Wins_This_Season  \\\n",
       "0                 0                 3                          13   \n",
       "1                 0                 2                          14   \n",
       "2                 1                 2                          13   \n",
       "3                 0                 2                          12   \n",
       "4                 0                 1                          15   \n",
       "\n",
       "   Number_Of_First_Round_Draft_Picks  Team_Value  Playing_Style  \\\n",
       "0                                  2           1              2   \n",
       "1                                  2           1              1   \n",
       "2                                  1           1              0   \n",
       "3                                  2           0              2   \n",
       "4                                  2           1              2   \n",
       "\n",
       "   Average_Player_Age  Number_Of_Injured_Players  Coach_Experience_Level  \n",
       "0                  27                          1                       2  \n",
       "1                  26                          1                       2  \n",
       "2                  27                          2                       2  \n",
       "3                  27                          6                       2  \n",
       "4                  26                          1                       2  "
      ]
     },
     "execution_count": 13,
     "metadata": {},
     "output_type": "execute_result"
    }
   ],
   "source": [
    "le_Team_Value = LabelEncoder()\n",
    "training_data['Team_Value'] = le_Team_Value.fit_transform(training_data['Team_Value'])\n",
    "\n",
    "le_Playing_Style = LabelEncoder()\n",
    "training_data['Playing_Style'] = le_Playing_Style.fit_transform(training_data['Playing_Style'])\n",
    "\n",
    "le_Number_Of_Injured_Players = LabelEncoder()\n",
    "training_data['Number_Of_Injured_Players'] = le_Number_Of_Injured_Players.fit_transform(training_data['Number_Of_Injured_Players'])\n",
    "\n",
    "le_Coach_Experience_Level = LabelEncoder()\n",
    "training_data['Coach_Experience_Level'] = le_Coach_Experience_Level.fit_transform(training_data['Coach_Experience_Level'])\n",
    "\n",
    "training_data = training_data.drop(columns=['ID'],axis=1)\n",
    "training_data.head()"
   ]
  },
  {
   "cell_type": "markdown",
   "metadata": {},
   "source": [
    "### Dropping columns -- ['Won_Championship','Team_Value','Playing_Style','Coach_Experience_Level']"
   ]
  },
  {
   "cell_type": "code",
   "execution_count": 14,
   "metadata": {},
   "outputs": [],
   "source": [
    "y = training_data.Won_Championship\n",
    "training_data = training_data.drop(columns=['Won_Championship','Team_Value','Playing_Style','Coach_Experience_Level'],axis=1)\n",
    "#training_data = training_data.drop(columns=['Won_Championship','Coach_Experience_Level','Number_Of_Wins_This_Season','Number_Of_Injured_Players'],axis=1)"
   ]
  },
  {
   "cell_type": "code",
   "execution_count": 15,
   "metadata": {},
   "outputs": [],
   "source": [
    "x_train,x_test, y_train, y_test = train_test_split(training_data,y,test_size=0.2)"
   ]
  },
  {
   "cell_type": "code",
   "execution_count": 16,
   "metadata": {},
   "outputs": [
    {
     "data": {
      "text/plain": [
       "76.21905476369092"
      ]
     },
     "execution_count": 16,
     "metadata": {},
     "output_type": "execute_result"
    }
   ],
   "source": [
    "bag = BaggingClassifier(n_estimators=100,oob_score=True,bootstrap_features=True)\n",
    "bag.fit(x_train,y_train)\n",
    "#bag.fit(training_data,y)\n",
    "prediction = bag.predict(x_test)\n",
    "acc = 100 * (f1_score(y_test,prediction,average='binary'))\n",
    "acc"
   ]
  },
  {
   "cell_type": "code",
   "execution_count": null,
   "metadata": {},
   "outputs": [],
   "source": []
  },
  {
   "cell_type": "code",
   "execution_count": 17,
   "metadata": {},
   "outputs": [
    {
     "name": "stdout",
     "output_type": "stream",
     "text": [
      "(3500, 9)\n"
     ]
    }
   ],
   "source": [
    "cols = training_data.columns\n",
    "test_data = pd.read_csv('test.csv')\n",
    "event_id = test_data['ID']\n",
    "\n",
    "print(test_data.shape)\n",
    "test_data = test_data.drop(columns=['ID','Team_Value','Playing_Style','Coach_Experience_Level'],axis=1)\n",
    "\n",
    "#test_data['Team_Value'] = le_Team_Value.fit_transform(test_data['Team_Value'])\n",
    "\n",
    "#test_data['Playing_Style'] = le_Playing_Style.fit_transform(test_data['Playing_Style'])\n",
    "\n",
    "test_data['Number_Of_Injured_Players'] = le_Number_Of_Injured_Players.fit_transform(test_data['Number_Of_Injured_Players'])\n",
    "\n",
    "#test_data['Coach_Experience_Level'] = le_Coach_Experience_Level.fit_transform(test_data['Coach_Experience_Level'])\n",
    "\n",
    "\n",
    "predictions = bag.predict(test_data)\n",
    "result_df = pd.DataFrame({'ID':event_id,'Won_Championship':predictions})\n",
    "result_df.to_csv('Prediction.csv',index=False)"
   ]
  },
  {
   "cell_type": "markdown",
   "metadata": {},
   "source": [
    "#### Online ACCURACY - 74.85"
   ]
  },
  {
   "cell_type": "code",
   "execution_count": null,
   "metadata": {},
   "outputs": [],
   "source": []
  }
 ],
 "metadata": {
  "kernelspec": {
   "display_name": "Python 3",
   "language": "python",
   "name": "python3"
  },
  "language_info": {
   "codemirror_mode": {
    "name": "ipython",
    "version": 3
   },
   "file_extension": ".py",
   "mimetype": "text/x-python",
   "name": "python",
   "nbconvert_exporter": "python",
   "pygments_lexer": "ipython3",
   "version": "3.7.4"
  }
 },
 "nbformat": 4,
 "nbformat_minor": 2
}

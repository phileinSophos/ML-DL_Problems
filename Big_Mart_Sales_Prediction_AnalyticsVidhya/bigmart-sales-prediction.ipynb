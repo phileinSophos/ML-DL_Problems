{
 "cells": [
  {
   "cell_type": "code",
   "execution_count": 1,
   "metadata": {},
   "outputs": [],
   "source": [
    "import pandas as pd\n",
    "import numpy as np"
   ]
  },
  {
   "cell_type": "code",
   "execution_count": 2,
   "metadata": {},
   "outputs": [],
   "source": [
    "# training_data = pd.read_csv('/kaggle/input/bigmart-data/train_v9rqX0R.csv')\n",
    "# test_data = pd.read_csv('/kaggle/input/bigmart-data/test_AbJTz2l.csv')\n",
    "\n",
    "\n",
    "# test_data['source'] = 'test'\n",
    "# training_data['source'] = 'train'\n",
    "\n",
    "# all_data = pd.concat([training_data,test_data],ignore_index=True)\n",
    "\n",
    "\n",
    "#     all_data['Item_Weight'].fillna(all_data['Item_Weight'].mean(), inplace=True)\n",
    "#     all_data.Outlet_Size.fillna(all_data.Outlet_Size.mode()[0],inplace=True)\n",
    "#     all_data['Item_Visibility'] = all_data['Item_Visibility'].replace({0:all_data.Item_Visibility.mean()})\n",
    "    \n",
    "#     all_data['Item_Type_Combined'] = all_data['Item_Identifier'].apply(lambda x: x[0:2])\n",
    "#     all_data['Item_Type_Combined'] = all_data['Item_Type_Combined'].map({'FD':'Food',\n",
    "#                                                                  'NC':'Non-Consumable',\n",
    "#                                                                  'DR':'Drinks'})\n",
    "#     all_data['Item_Type_Combined'].value_counts()\n",
    "#     all_data['Outlet_Establishment_Year'] = 2020 - all_data['Outlet_Establishment_Year']\n",
    "#     all_data['Item_Fat_Content'] = all_data['Item_Fat_Content'].replace({'LF':'Low Fat',\n",
    "#                                                              'reg':'Regular',\n",
    "#                                                              'low fat':'Low Fat'})\n",
    "\n",
    "#     all_data.loc[all_data['Item_Type_Combined']==\"Non-Consumable\",'Item_Fat_Content'] = \"Non-Edible\"\n",
    "    \n",
    "#     from sklearn.preprocessing import LabelEncoder\n",
    "#     le = LabelEncoder()\n",
    "\n",
    "#     all_data['Outlet'] = le.fit_transform(all_data['Outlet_Identifier'])\n",
    "#     var_mod = ['Item_Fat_Content','Outlet_Location_Type','Outlet_Size','Item_Type_Combined','Outlet_Type','Outlet']\n",
    "#     le = LabelEncoder()\n",
    "#     for i in var_mod:\n",
    "#         all_data[i] = le.fit_transform(all_data[i])\n",
    "        \n",
    "#     all_data = pd.get_dummies(all_data, columns=['Item_Fat_Content','Outlet_Location_Type','Outlet_Size','Outlet_Type',\n",
    "#                               'Item_Type_Combined','Outlet'])\n",
    "    \n",
    "#     all_data.drop(['Item_Type',],axis=1,inplace=True)"
   ]
  },
  {
   "cell_type": "code",
   "execution_count": 26,
   "metadata": {},
   "outputs": [],
   "source": [
    "training_data = pd.read_csv('/kaggle/input/bigmart-data/train_modified.csv')\n"
   ]
  },
  {
   "cell_type": "code",
   "execution_count": 27,
   "metadata": {},
   "outputs": [],
   "source": [
    "targets = training_data.Item_Outlet_Sales\n",
    "\n",
    "training_data.drop(columns=['Item_Outlet_Sales','Outlet_Identifier','Item_Identifier'],axis=1,inplace=True)\n"
   ]
  },
  {
   "cell_type": "code",
   "execution_count": 28,
   "metadata": {},
   "outputs": [],
   "source": [
    "from sklearn.model_selection import train_test_split\n",
    "\n",
    "x_train,x_test,y_train,y_test = train_test_split(training_data,targets)"
   ]
  },
  {
   "cell_type": "code",
   "execution_count": 29,
   "metadata": {},
   "outputs": [],
   "source": [
    "from sklearn.ensemble import RandomForestRegressor, GradientBoostingRegressor\n",
    "from sklearn.model_selection import GridSearchCV\n",
    "from sklearn.metrics import accuracy_score, mean_squared_error"
   ]
  },
  {
   "cell_type": "code",
   "execution_count": 48,
   "metadata": {},
   "outputs": [
    {
     "data": {
      "text/plain": [
       "1089.3085452208666"
      ]
     },
     "execution_count": 48,
     "metadata": {},
     "output_type": "execute_result"
    }
   ],
   "source": [
    "rfr = RandomForestRegressor(n_estimators=500,max_depth=6,min_samples_leaf=100,oob_score=True, n_jobs=4)\n",
    "rfr.fit(x_train,y_train)\n",
    "pred = rfr.predict(x_test)\n",
    "mean_squared_error(y_test,pred,squared=False)"
   ]
  },
  {
   "cell_type": "code",
   "execution_count": 46,
   "metadata": {},
   "outputs": [],
   "source": [
    "test_data = pd.read_csv('/kaggle/input/bigmart-data/test_modified.csv')\n",
    "outlet_id = test_data.Outlet_Identifier\n",
    "item_id = test_data.Item_Identifier\n",
    "\n",
    "test_data.drop(columns=['Outlet_Identifier','Item_Identifier'],axis=1,inplace=True)"
   ]
  },
  {
   "cell_type": "code",
   "execution_count": 47,
   "metadata": {},
   "outputs": [],
   "source": [
    "rfr.fit(training_data,targets)\n",
    "test_predictions = rfr.predict(test_data)\n",
    "submission = pd.DataFrame({'Item_Identifier':item_id,'Outlet_Identifier':outlet_id,\n",
    "                           'Item_Outlet_Sales':test_predictions})\n",
    "submission.to_csv('submission.csv',index=None)"
   ]
  },
  {
   "cell_type": "markdown",
   "metadata": {},
   "source": [
    "### Online Accuracy (RMSE)= 1153\n",
    "### offline accuracy = 1089"
   ]
  },
  {
   "cell_type": "code",
   "execution_count": null,
   "metadata": {},
   "outputs": [],
   "source": []
  }
 ],
 "metadata": {
  "kernelspec": {
   "display_name": "Python 3",
   "language": "python",
   "name": "python3"
  },
  "language_info": {
   "codemirror_mode": {
    "name": "ipython",
    "version": 3
   },
   "file_extension": ".py",
   "mimetype": "text/x-python",
   "name": "python",
   "nbconvert_exporter": "python",
   "pygments_lexer": "ipython3",
   "version": "3.8.2"
  }
 },
 "nbformat": 4,
 "nbformat_minor": 4
}
